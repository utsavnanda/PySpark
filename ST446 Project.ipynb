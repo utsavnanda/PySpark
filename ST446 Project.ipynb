{
 "cells": [
  {
   "cell_type": "markdown",
   "metadata": {},
   "source": [
    "# Stack Exchange Expertise Modelling"
   ]
  },
  {
   "cell_type": "markdown",
   "metadata": {},
   "source": [
    "## Background"
   ]
  },
  {
   "cell_type": "markdown",
   "metadata": {},
   "source": [
    "Stack Exchange is essentialy just a network of Q&A (Question and Answer) websites. Each website covers a different topic and users are rewarded for their contributions by earning reputation points.\n",
    "\n",
    "The purpose of this notebook is to try and identify users' expertise and see which users can be considered to be \"skilled\". Stack Exchange already has an attribute called \"reputation\" in place but this takes into account many factors such as the quality of questions/answers a user posts.\n",
    "More information about reputation can be found here https://meta.stackexchange.com/questions/7237/how-does-reputation-work.\n",
    "However, \"reputation\" is often very highly related to the amount of time a user has spent registered to the site. Hence, it may be more useful to try and identify a user's \"skill\" in a slightly different way. This is what we shall try and do.\n",
    "\n",
    "We shall use the anonymous Stack Exchange data dump for this analysis. The data can be obtained from https://archive.org/details/stackexchange or https://www.dropbox.com/sh/89xbpcjl4oq0j4w/AAA4_cGYM5TqB3dkczIQ0qQJa/StackExchange?dl=0. The data is saved in the .xml format.\n",
    "\n",
    "\n"
   ]
  },
  {
   "cell_type": "markdown",
   "metadata": {},
   "source": [
    "## Preliminaries"
   ]
  },
  {
   "cell_type": "markdown",
   "metadata": {},
   "source": [
    "Before any analysis can be done, we need to ensure that we have Spark installed on our system and are able to use the Spark framework via the Python API (ie, PySpark).\n",
    "\n",
    "In addition, a number of different libraries need to be imported. These libraries can be seen in the cell below. \n",
    "\n",
    "When starting PySpark from the command line on your system, the command below should be used: \n",
    "\n",
    "pyspark --packages com.databricks:spark-xml_2.11:0.4.1,graphframes:graphframes:0.3.0-spark2.0-s_2.11\n",
    "\n",
    "This loads the Spark graphframes package which helps us to store and query the data in the form of GraphFrames.  "
   ]
  },
  {
   "cell_type": "markdown",
   "metadata": {},
   "source": [
    "## Libraries"
   ]
  },
  {
   "cell_type": "code",
   "execution_count": 1,
   "metadata": {
    "collapsed": true
   },
   "outputs": [],
   "source": [
    "# Libaries/Packages to import\n",
    "\n",
    "from pyspark.sql import SQLContext\n",
    "sqlContext = SQLContext(sc)\n",
    "\n",
    "import graphframes\n",
    "from graphframes import *\n",
    "import matplotlib.pyplot as plt\n",
    "%matplotlib inline\n",
    "from  pyspark.sql.functions import abs\n",
    "from pyspark.sql import functions as F\n",
    "from pyspark.sql.functions import lit\n",
    "from pyspark.sql.types import StringType\n",
    "from pyspark.sql import Row\n",
    "\n",
    "from datetime import datetime\n",
    "\n",
    "import re\n",
    "\n",
    "sc.setCheckpointDir(\"file:///tmp\") # change where to store if you want to"
   ]
  },
  {
   "cell_type": "markdown",
   "metadata": {},
   "source": [
    "## Loading the Data"
   ]
  },
  {
   "cell_type": "markdown",
   "metadata": {},
   "source": [
    "Firstly, we save the data on our local system and then assign the path to the data to the \"fpath\" variable. \n",
    "The load_xml function below takes the .xml data and converts it into an appropriate format for us to use. "
   ]
  },
  {
   "cell_type": "code",
   "execution_count": 2,
   "metadata": {
    "collapsed": true
   },
   "outputs": [],
   "source": [
    "fpath = '/Users/utsavnanda/Documents/GitHub/lectures/project-utsavnanda/StackExchange/'\n",
    "\n",
    "def load_xml(table_name):\n",
    "    xml_name = table_name.capitalize()\n",
    "    table = sqlContext.read.format('com.databricks.spark.xml').options(rowTag=table_name).load(fpath+xml_name+'.xml')\n",
    "    rdd_table = table.rdd.flatMap(lambda x: x).flatMap(lambda x: x)\n",
    "    df = sqlContext.createDataFrame(rdd_table, table.schema.fields[0].dataType.elementType)\n",
    "    df.createOrReplaceTempView(table_name)\n",
    "    return df"
   ]
  },
  {
   "cell_type": "markdown",
   "metadata": {},
   "source": [
    "Next, we use the load_xml function to save each file into separate dataframes."
   ]
  },
  {
   "cell_type": "code",
   "execution_count": 3,
   "metadata": {
    "collapsed": true
   },
   "outputs": [],
   "source": [
    "users = load_xml(\"users\")\n",
    "posts = load_xml(\"posts\")\n",
    "postlinks = load_xml(\"postlinks\")\n",
    "comments = load_xml(\"comments\")\n",
    "tags = load_xml(\"tags\")"
   ]
  },
  {
   "cell_type": "markdown",
   "metadata": {},
   "source": [
    "The schema of the posts dataframe can be seen below. This provides us with a very useful outline of the dataframe. It tells us the different columns in the dataframe and which data type they each contain. "
   ]
  },
  {
   "cell_type": "code",
   "execution_count": 4,
   "metadata": {},
   "outputs": [
    {
     "name": "stdout",
     "output_type": "stream",
     "text": [
      "root\n",
      " |-- _AcceptedAnswerId: long (nullable = true)\n",
      " |-- _AnswerCount: long (nullable = true)\n",
      " |-- _Body: string (nullable = true)\n",
      " |-- _ClosedDate: string (nullable = true)\n",
      " |-- _CommentCount: long (nullable = true)\n",
      " |-- _CommunityOwnedDate: string (nullable = true)\n",
      " |-- _CreationDate: string (nullable = true)\n",
      " |-- _FavoriteCount: long (nullable = true)\n",
      " |-- _Id: long (nullable = true)\n",
      " |-- _LastActivityDate: string (nullable = true)\n",
      " |-- _LastEditDate: string (nullable = true)\n",
      " |-- _LastEditorDisplayName: string (nullable = true)\n",
      " |-- _LastEditorUserId: long (nullable = true)\n",
      " |-- _OwnerDisplayName: string (nullable = true)\n",
      " |-- _OwnerUserId: long (nullable = true)\n",
      " |-- _ParentId: long (nullable = true)\n",
      " |-- _PostTypeId: long (nullable = true)\n",
      " |-- _Score: long (nullable = true)\n",
      " |-- _Tags: string (nullable = true)\n",
      " |-- _Title: string (nullable = true)\n",
      " |-- _VALUE: string (nullable = true)\n",
      " |-- _ViewCount: long (nullable = true)\n",
      "\n"
     ]
    }
   ],
   "source": [
    "posts.printSchema()"
   ]
  },
  {
   "cell_type": "markdown",
   "metadata": {
    "collapsed": true
   },
   "source": [
    "For illustration purposes, the first post can be seen below."
   ]
  },
  {
   "cell_type": "code",
   "execution_count": 5,
   "metadata": {},
   "outputs": [
    {
     "data": {
      "text/plain": [
       "[Row(_AcceptedAnswerId=None, _AnswerCount=1, _Body='<p>I\\'ve always been interested in machine learning, but I can\\'t figure out one thing about starting out with a simple \"Hello World\" example - how can I avoid hard-coding behavior?</p>\\n\\n<p>For example, if I wanted to \"teach\" a bot how to avoid randomly placed obstacles, I couldn\\'t just use relative motion, because the obstacles move around, but I don\\'t want to hard code, say, distance, because that ruins the whole point of machine learning.</p>\\n\\n<p>Obviously, randomly generating code would be impractical, so how could I do this?</p>\\n', _ClosedDate='2014-05-14T14:40:25.950', _CommentCount=1, _CommunityOwnedDate=None, _CreationDate='2014-05-13T23:58:30.457', _FavoriteCount=1, _Id=5, _LastActivityDate='2014-05-14T00:36:31.077', _LastEditDate=None, _LastEditorDisplayName=None, _LastEditorUserId=None, _OwnerDisplayName=None, _OwnerUserId=5, _ParentId=None, _PostTypeId=1, _Score=7, _Tags='<machine-learning>', _Title='How can I do simple machine learning without hard-coding behavior?', _VALUE=None, _ViewCount=338)]"
      ]
     },
     "execution_count": 5,
     "metadata": {},
     "output_type": "execute_result"
    }
   ],
   "source": [
    "posts.take(1)"
   ]
  },
  {
   "cell_type": "markdown",
   "metadata": {},
   "source": [
    "For our analysis, we will only look at a few of these columns. They include:\n",
    "\n",
    "* **_Id:** This is the unique id of the respective post.\n",
    "\n",
    "* **_PostTypeId:** This tells us the type of the respective post. We will only focus on Questions (type 1) and Answers (type 2).\n",
    "\n",
    "* **_ParentId:** If the post is an Answer, this tells us the unique id of the question this post is answering. If the post is a Question, the _ParentId is null.\n",
    "\n",
    "* **_OwnerUserId:** This tells us the unique id of the user who created the respective post. \n",
    "\n",
    "* **_Score:** Number of upvotes - Number of downvotes for a post.\n",
    "\n",
    "* **_Tags:** If the post is a Question, this gives us a shapshot of what category the question belongs to. \n",
    " \n",
    "    "
   ]
  },
  {
   "cell_type": "markdown",
   "metadata": {},
   "source": [
    "## Analysis\n",
    "\n",
    "### Creating the GraphFrame"
   ]
  },
  {
   "cell_type": "markdown",
   "metadata": {},
   "source": [
    "First, we shall look to create a Bipartite Graph. This is a graph with a set of vertices partitioned into two disjoint components (referred as left and right) such that each edge of the graph connects two vertices in different components. The two components will be Questions and Answers, with an edge going from an Answer to the Question it is answering. Hence, a given question can have multiple incoming edges.\n",
    "\n",
    "As you can see below, to get the question vertices, we've filtered by \"_PostTypeId\" = 1 and to obtain the answers vertices, we filtered by \"_PostTypeId\" = 2. The first 5 vertices for each type are displayed. The ids correspond to the unique id each post has. "
   ]
  },
  {
   "cell_type": "code",
   "execution_count": 6,
   "metadata": {},
   "outputs": [
    {
     "name": "stdout",
     "output_type": "stream",
     "text": [
      "Question Vertices:\n",
      "+----+\n",
      "|  id|\n",
      "+----+\n",
      "| 474|\n",
      "|5409|\n",
      "|6721|\n",
      "|8440|\n",
      "|9233|\n",
      "+----+\n",
      "only showing top 5 rows\n",
      "\n",
      "Answer Vertices:\n",
      "+----+\n",
      "|  id|\n",
      "+----+\n",
      "|  26|\n",
      "|  29|\n",
      "| 964|\n",
      "|2453|\n",
      "|2509|\n",
      "+----+\n",
      "only showing top 5 rows\n",
      "\n"
     ]
    }
   ],
   "source": [
    "questionsVertices = posts.withColumnRenamed(\"_Id\",\"id\").select(\"id\").distinct().filter(\"_PostTypeId='1'\")\n",
    "answersVertices = posts.withColumnRenamed(\"_Id\",\"id\").select(\"id\").distinct().filter(\"_PostTypeId='2'\")\n",
    "\n",
    "print(\"Question Vertices:\")\n",
    "questionsVertices.show(5)\n",
    "\n",
    "print(\"Answer Vertices:\")\n",
    "answersVertices.show(5)"
   ]
  },
  {
   "cell_type": "markdown",
   "metadata": {},
   "source": [
    "Next, to avoid confusion between the Question vertices and Answer vertices, we add \"Q\" before each question id and \"A\" before each answer id. Also, we create \"postsEdges\" which contains an edge from each Answer to the respective Question it answers. We combine the vertices and edges into a GraphFrame and call it \"bipartiteGraph\"."
   ]
  },
  {
   "cell_type": "code",
   "execution_count": 7,
   "metadata": {
    "collapsed": true
   },
   "outputs": [],
   "source": [
    "questionsVerticesWithType = questionsVertices.rdd.map(lambda r: Row(id=\"Q\"+str(r.id), type=\"question\")).toDF()\n",
    "answersVerticesWithType = answersVertices.rdd.map(lambda r: Row(id=\"A\"+str(r.id), type=\"answer\")).toDF()\n",
    "\n",
    "postsEdges = posts.select(\"_Id\",\"_ParentId\").rdd.map(lambda r: Row(src=\"A\"+str(r._Id),dst=\"Q\"+str(r._ParentId))).filter(lambda x: x[0] != \"QNone\").toDF()\n",
    "\n",
    "bipartiteVertices = questionsVerticesWithType.unionAll(answersVerticesWithType)\n",
    "bipartiteEdges = postsEdges\n",
    "\n",
    "bipartiteGraph = GraphFrame(bipartiteVertices,bipartiteEdges)"
   ]
  },
  {
   "cell_type": "markdown",
   "metadata": {},
   "source": [
    "Below, we filter the \"bipartiteGraph\" vertices by type \"question\" and \"answer\" and display the first 5 results. In addition, we show the first 5 edges. \"dst\" stands for the edge destination and \"src\" stands for the edge source. "
   ]
  },
  {
   "cell_type": "code",
   "execution_count": 8,
   "metadata": {},
   "outputs": [
    {
     "name": "stdout",
     "output_type": "stream",
     "text": [
      "The Question Vertices:\n",
      "+-----+--------+\n",
      "|   id|    type|\n",
      "+-----+--------+\n",
      "| Q474|question|\n",
      "|Q5409|question|\n",
      "|Q6721|question|\n",
      "|Q8440|question|\n",
      "|Q9233|question|\n",
      "+-----+--------+\n",
      "only showing top 5 rows\n",
      "\n",
      "The Answer Vertices:\n",
      "+-----+------+\n",
      "|   id|  type|\n",
      "+-----+------+\n",
      "|  A26|answer|\n",
      "|  A29|answer|\n",
      "| A964|answer|\n",
      "|A2453|answer|\n",
      "|A2509|answer|\n",
      "+-----+------+\n",
      "only showing top 5 rows\n",
      "\n",
      "The Edges from Answer to Question:\n",
      "+---+---+\n",
      "|dst|src|\n",
      "+---+---+\n",
      "| Q5| A9|\n",
      "| Q7|A10|\n",
      "|Q19|A21|\n",
      "| Q7|A23|\n",
      "|Q22|A24|\n",
      "+---+---+\n",
      "only showing top 5 rows\n",
      "\n"
     ]
    }
   ],
   "source": [
    "print(\"The Question Vertices:\")\n",
    "bipartiteGraph.vertices.filter(\"type='question'\").show(5)\n",
    "\n",
    "print(\"The Answer Vertices:\")\n",
    "bipartiteGraph.vertices.filter(\"type='answer'\").show(5)\n",
    "\n",
    "print(\"The Edges from Answer to Question:\")\n",
    "bipartiteGraph.edges.show(5)"
   ]
  },
  {
   "cell_type": "markdown",
   "metadata": {},
   "source": [
    "Next, we add another couple sets of vertices and edges to the graph. The first set of new vertices are the user ids and an edge will be added from a user id to an answer if that user posted the answer in question. Just like previously, to distinguish between the different sets of vertices, the user id's will be prefixed with \"U\"."
   ]
  },
  {
   "cell_type": "code",
   "execution_count": 9,
   "metadata": {
    "collapsed": true
   },
   "outputs": [],
   "source": [
    "usersVertices = posts.withColumnRenamed(\"_OwnerUserId\",\"id\").select(\"id\").distinct()\n",
    "usersVerticesWithType = usersVertices.rdd.map(lambda r: Row(id=\"U\"+str(r.id), type=\"user\")).toDF()\n",
    "usersEdges = posts.select(\"_Id\",\"_OwnerUserId\").rdd.map(lambda r: Row(src=\"U\"+str(r._OwnerUserId),dst=\"A\"+str(r._Id))).toDF()\n",
    "\n",
    "tripartiteVertices = bipartiteVertices.unionAll(usersVerticesWithType)\n",
    "tripartiteEdges = bipartiteEdges.unionAll(usersEdges)\n",
    "\n",
    "tripartiteGraph = GraphFrame(tripartiteVertices,tripartiteEdges)\n",
    "\n"
   ]
  },
  {
   "cell_type": "markdown",
   "metadata": {},
   "source": [
    "The second set of new vertices are the scores each post gets. Remember, the \"score\" is equal to the number of upvotes - the number of downvotes so it is a way of measuring the the quality of a user's answer. An edge will be added from an answer to its respective score.\n",
    "\n",
    "So in total, the GraphFrame has 4 sets of vertices (Users, Answers, Scores, Questions) and  3 different types of edges (edge from User to Answer, from Answer to Score and from Answer to Question).\n",
    "\n",
    "The GraphFrame is called quadpartiteGraph."
   ]
  },
  {
   "cell_type": "code",
   "execution_count": 10,
   "metadata": {
    "collapsed": true
   },
   "outputs": [],
   "source": [
    "scoresVertices = posts.withColumnRenamed(\"_score\",\"score\").select(\"score\").filter(\"_PostTypeId = '2'\").distinct()\n",
    "scoresVerticesWithType = scoresVertices.rdd.map(lambda r: Row(id=\"S\"+str(r.score), type=\"score\")).toDF()\n",
    "scoresEdges = posts.select(\"_Id\",\"_score\").rdd.map(lambda r: Row(src=\"A\"+str(r._Id),dst=\"S\"+str(r._score))).toDF()\n",
    "\n",
    "quadpartiteVertices = tripartiteVertices.unionAll(scoresVerticesWithType)\n",
    "quadpartiteEdges = tripartiteEdges.unionAll(scoresEdges)\n",
    "\n",
    "quadpartiteGraph = GraphFrame(quadpartiteVertices,quadpartiteEdges)"
   ]
  },
  {
   "cell_type": "markdown",
   "metadata": {},
   "source": [
    "The next step is to create a dataframe called \"all_edges\". As the name suggests, this helps us to observe each set of 4 vertices and the 3 edges between them.\n",
    "\n",
    "The first 5 results are displayed below. \n",
    "\n",
    "So for example, you can see that there is an edge from user 21 to answer 46, an edge from answer 46 to question 16 and an edge from question 16 to score 10. Intuitively this means that user 21 posted answer 46 which was answering question 16. This answer got a score of 10 (ie, the upvotes - downvotes = 10). "
   ]
  },
  {
   "cell_type": "code",
   "execution_count": 11,
   "metadata": {},
   "outputs": [
    {
     "name": "stdout",
     "output_type": "stream",
     "text": [
      "+------------+--------------+----------------+-----------+\n",
      "|        user|        answer|        question|      score|\n",
      "+------------+--------------+----------------+-----------+\n",
      "|  [U21,user]|  [A46,answer]|  [Q16,question]|[S10,score]|\n",
      "|[U4719,user]|[A2315,answer]|[Q1028,question]|[S10,score]|\n",
      "|[U1224,user]| [A609,answer]| [Q410,question]|[S10,score]|\n",
      "|[U8878,user]|[A9126,answer]|[Q9038,question]|[S10,score]|\n",
      "| [U108,user]| [A165,answer]| [Q143,question]|[S10,score]|\n",
      "+------------+--------------+----------------+-----------+\n",
      "only showing top 5 rows\n",
      "\n"
     ]
    }
   ],
   "source": [
    "all_edges = quadpartiteGraph.find(\"(user) -[]-> (answer); (answer) -[]-> (question); (answer) -[]-> (score)\").where(\"question.id like '%Q%'\").where(\"score.id like '%S%'\")\n",
    "all_edges.show(5)\n"
   ]
  },
  {
   "cell_type": "markdown",
   "metadata": {},
   "source": [
    "### Rating each User's Skill Level"
   ]
  },
  {
   "cell_type": "markdown",
   "metadata": {},
   "source": [
    "Now that we have created the general GraphFrame and DataFrame of edges, we shall move onto the rating part of the analysis. We need to identify a way of measuring a user's \"skill\" so that other users can identify if a user's answer is likely to reliable or not. We shall do this by treating each question as a competition and creating a game between each pair of users that answer a given question. This will be discussed more later.\n",
    "\n",
    "For now we just create a new dataframe called \"edges_df\" which is the same as the \"all_edges\" dataframe but with the \"U\", \"A\", \"Q\" and \"S\" removed from each value.  "
   ]
  },
  {
   "cell_type": "code",
   "execution_count": 12,
   "metadata": {},
   "outputs": [
    {
     "name": "stdout",
     "output_type": "stream",
     "text": [
      "+------+--------+-----+----+\n",
      "|answer|question|score|user|\n",
      "+------+--------+-----+----+\n",
      "|    46|      16|   10|  21|\n",
      "|  2315|    1028|   10|4719|\n",
      "|   609|     410|   10|1224|\n",
      "|  9126|    9038|   10|8878|\n",
      "|   165|     143|   10| 108|\n",
      "+------+--------+-----+----+\n",
      "only showing top 5 rows\n",
      "\n"
     ]
    }
   ],
   "source": [
    "edges_df = all_edges.rdd.map(lambda r:Row(user=str(r.user.id[1:]),answer=str(r.answer.id[1:]),question=str(r.question.id[1:]),score=str(r.score.id[1:]))).toDF()\n",
    "edges_df.show(5)"
   ]
  },
  {
   "cell_type": "markdown",
   "metadata": {},
   "source": [
    "We use the \"edges_df\" dataframe created above to then create an RDD called \"edges_rdd\". This contains each question id as keys and the answer id, score and user id as values.\n",
    "\n",
    "Note: The values for each key are ordered as answer id, score and then user id. "
   ]
  },
  {
   "cell_type": "code",
   "execution_count": 13,
   "metadata": {},
   "outputs": [
    {
     "data": {
      "text/plain": [
       "[('16', ['46', '10', '21']),\n",
       " ('1028', ['2315', '10', '4719']),\n",
       " ('410', ['609', '10', '1224']),\n",
       " ('9038', ['9126', '10', '8878']),\n",
       " ('143', ['165', '10', '108'])]"
      ]
     },
     "execution_count": 13,
     "metadata": {},
     "output_type": "execute_result"
    }
   ],
   "source": [
    "\n",
    "\n",
    "edges_rdd = edges_df.rdd.map(lambda x:((x[1]),(x[0],x[2],x[3]))).mapValues(list)\n",
    "edges_rdd.take(5)\n"
   ]
  },
  {
   "cell_type": "markdown",
   "metadata": {},
   "source": [
    "We then look to create a new data frame called \"edges_df_2\" which contains each pair of answers for a given question, along with the question id. To do this, we convert the edges_rdd to a dataframe and then convert that to a Spark SQL table. This allows us to peform a Spark SQL query to join each pair of answers for a given question.\n",
    "\n",
    "The first 5 rows from the table are displayed below. Remember, the 3 elements in the answer list are the post id, score and user id. "
   ]
  },
  {
   "cell_type": "code",
   "execution_count": 14,
   "metadata": {},
   "outputs": [
    {
     "name": "stdout",
     "output_type": "stream",
     "text": [
      "+----------------+-----------------+--------+\n",
      "|        answer_1|         answer_2|question|\n",
      "+----------------+-----------------+--------+\n",
      "|  [1176, 4, 924]|   [1184, 0, 890]|    1159|\n",
      "|  [1176, 4, 924]|[13680, 0, 23802]|    1159|\n",
      "|  [1184, 0, 890]|[13680, 0, 23802]|    1159|\n",
      "|[1169, 20, 1279]|   [1176, 4, 924]|    1159|\n",
      "|[1169, 20, 1279]|   [1184, 0, 890]|    1159|\n",
      "+----------------+-----------------+--------+\n",
      "only showing top 5 rows\n",
      "\n"
     ]
    }
   ],
   "source": [
    "edges_df_2 = sqlContext.createDataFrame(edges_rdd)\n",
    "sqlContext.registerDataFrameAsTable(edges_df_2, \"z\")\n",
    "\n",
    "edges_df_2 = spark.sql(\"SELECT a._2 AS answer_1 , b._2 AS answer_2, a._1 as question FROM z a JOIN z b ON a._1 = b._1 and a._2[0] < b._2[0]\")\n",
    "edges_df_2.show(5)"
   ]
  },
  {
   "cell_type": "markdown",
   "metadata": {},
   "source": [
    "Now, we add 2 columns to the edges_df_2 dataframe - they are title \"winner\" and \"points\".\n",
    "\n",
    "The \"winner\" column compares the score for each pair of answers (ie the second entry in the vector) and records the id of the winning user (or puts \"draw\" if the scores are equal).\n",
    "\n",
    "The \"points\" column compares the relative difference in the score for each pair of answers. If the absolute difference is greater than or equal to 5, the winning user gets awarded 5 points. If the absolute difference is greater than or equal to 3 but less than 5, the winning user gets awarded 3 points. If the absolute difference is greate than or equal to 1 but less than 3, the winning user get awarded 1 point. If its a draw, no points are awarded.\n",
    "\n",
    "There was another scoring method which we considered. This was to award 1 point to each user that wins, award 0.5 points to each user if there is a draw and 0 points otherwise. Then we could sum over each question and divide by the number of questions. This would give a more interpretable result as the score we get could be considered to be a user's probability of beating another user when comparing their 2 answers. However, the reason for not picking this method was that we thought it would be beneficial to reward uers whose answers were much better than their counterpart's, and hence award them 5 points.  "
   ]
  },
  {
   "cell_type": "code",
   "execution_count": 15,
   "metadata": {},
   "outputs": [
    {
     "name": "stdout",
     "output_type": "stream",
     "text": [
      "+----------------+-----------------+--------+------+------+\n",
      "|        answer_1|         answer_2|question|winner|points|\n",
      "+----------------+-----------------+--------+------+------+\n",
      "|  [1176, 4, 924]|   [1184, 0, 890]|    1159|   924|     3|\n",
      "|  [1176, 4, 924]|[13680, 0, 23802]|    1159|   924|     3|\n",
      "|  [1184, 0, 890]|[13680, 0, 23802]|    1159|  draw|     0|\n",
      "|[1169, 20, 1279]|   [1176, 4, 924]|    1159|   924|     5|\n",
      "|[1169, 20, 1279]|   [1184, 0, 890]|    1159|  1279|     5|\n",
      "+----------------+-----------------+--------+------+------+\n",
      "only showing top 5 rows\n",
      "\n"
     ]
    }
   ],
   "source": [
    "winner=(F.when(F.col(\"answer_1\")[1]>F.col(\"answer_2\")[1], F.col(\"answer_1\")[2]).when(F.col(\"answer_1\")[1]<F.col(\"answer_2\")[1],F.col(\"answer_2\")[2]).otherwise(\"draw\"))\n",
    "points=(F.when(abs(F.col(\"answer_1\")[1]-F.col(\"answer_2\")[1])>=5, 5).when(abs(F.col(\"answer_1\")[1] - F.col(\"answer_2\")[1]) >= 3,3).when(abs(F.col(\"answer_1\")[1] - F.col(\"answer_2\")[1]) >= 1,1).otherwise(0))\n",
    "\n",
    "edges_df_2 = edges_df_2.withColumn(\"winner\",winner)\n",
    "edges_df_2 = edges_df_2.withColumn(\"points\", points)\n",
    "edges_df_2.show(5)"
   ]
  },
  {
   "cell_type": "markdown",
   "metadata": {},
   "source": [
    "We can then group the winners and sum their points. The top 10 user ids are displayed below.\n",
    "\n",
    "We also display the top 10 user ids if we order by the traditional Stack Exchange \"reputation\" metric. "
   ]
  },
  {
   "cell_type": "code",
   "execution_count": 16,
   "metadata": {},
   "outputs": [
    {
     "name": "stdout",
     "output_type": "stream",
     "text": [
      "Top 10 by Skill:\n",
      "+----+-----------+\n",
      "|  id|total_score|\n",
      "+----+-----------+\n",
      "|2452|        299|\n",
      "| 381|        231|\n",
      "| 434|        192|\n",
      "| 843|        178|\n",
      "| 924|        165|\n",
      "|  97|        158|\n",
      "|  84|        144|\n",
      "|  59|        122|\n",
      "|  21|        114|\n",
      "| 514|        109|\n",
      "+----+-----------+\n",
      "\n",
      "Top 10 by Reputation:\n",
      "+-----+----------+\n",
      "|   id|reputation|\n",
      "+-----+----------+\n",
      "|  381|      5709|\n",
      "| 2452|      4923|\n",
      "|  836|      4916|\n",
      "|11097|      3375|\n",
      "| 8820|      3156|\n",
      "|   21|      3154|\n",
      "|  924|      3044|\n",
      "| 9420|      3022|\n",
      "|  108|      2887|\n",
      "|14904|      2880|\n",
      "+-----+----------+\n",
      "\n"
     ]
    }
   ],
   "source": [
    "top_ten_sum = edges_df_2.select(\"winner\",\"points\").groupBy(\"winner\").sum(\"points\").sort(\"sum(points)\",ascending=False).withColumnRenamed(\"winner\",\"id\").withColumnRenamed(\"sum(points)\",\"total_score\").limit(10)\n",
    "\n",
    "user_rep = users.select(\"_id\",\"_reputation\").distinct()\n",
    "post_id = posts.select(\"_OwnerUserId\").withColumnRenamed(\"_OwnerUserId\",\"_id\").distinct()\n",
    "user_rep = post_id.join(user_rep,\"_id\").withColumnRenamed(\"_id\",\"id\").withColumnRenamed(\"_reputation\",\"reputation\")\n",
    "user_rep = user_rep.sort(\"_reputation\",ascending=False).limit(10)\n",
    "\n",
    "print(\"Top 10 by Skill:\")\n",
    "\n",
    "top_ten_sum.show()\n",
    "\n",
    "print(\"Top 10 by Reputation:\")\n",
    "user_rep.show()"
   ]
  },
  {
   "cell_type": "markdown",
   "metadata": {},
   "source": [
    "Below, we have a couple of bar plots which visualise the findings from above. Notice that four users present in the top 10 \"skill\" table are also present in the top 10 \"reputation\" table. These are: 2452, 381, 924 and 21."
   ]
  },
  {
   "cell_type": "code",
   "execution_count": 17,
   "metadata": {},
   "outputs": [
    {
     "data": {
      "image/png": "[encoded data removed]",
      "text/plain": [
       "<matplotlib.figure.Figure at 0x10e490748>"
      ]
     },
     "metadata": {},
     "output_type": "display_data"
    }
   ],
   "source": [
    "top_10_1 = top_ten_sum.collect()\n",
    "top_10_2 = user_rep.collect()\n",
    "\n",
    "fig, ax = plt.subplots(ncols = 2, nrows = 1, figsize=(10,5))\n",
    "\n",
    "ax[0].barh(range(len(top_10_1)),[t.total_score for t in top_10_1], alpha=0.7)\n",
    "ax[0].set_yticks(range(len(top_10_1)))\n",
    "ax[0].set_yticklabels([t.id for t in top_10_1])\n",
    "ax[0].invert_yaxis()\n",
    "ax[0].set_title(\"Top 10 User Ids by Skill\")\n",
    "ax[0].set_xlabel(\"Total Score\")\n",
    "ax[0].set_ylabel(\"User Ids\")\n",
    "\n",
    "\n",
    "ax[1].barh(range(len(top_10_2)),[t.reputation for t in top_10_2], alpha=0.7)\n",
    "ax[1].set_yticks(range(len(top_10_2)))\n",
    "ax[1].set_yticklabels([t.id for t in top_10_2])\n",
    "ax[1].invert_yaxis()\n",
    "ax[1].set_title(\"Top 10 User Ids by Reputation\")\n",
    "ax[1].set_xlabel(\"Reputation\")\n",
    "ax[1].set_ylabel(\"User Ids\")\n",
    "\n",
    "fig.subplots_adjust(wspace=0.5)\n",
    "\n",
    "plt.show()"
   ]
  },
  {
   "cell_type": "markdown",
   "metadata": {},
   "source": [
    "Arguably, it may be thought that summing each user's score over all the questions may give more weight to users who have answered many questions or who have answered questions which have a number of answers. \n",
    "\n",
    "Below, we have calculated the average score for each user. Here, their total points is divided by the total number of pairs of answers over all the questions they answer. \n",
    "\n",
    "However, as we can see, a lot of users have an average score of 5. This is because they, either have answered very few questions, or have answered questions which have very few answers. Hence, they would have won all of their matches against other users. So this may be not a very reliable way of measuring a user's skill. For this reason, we decided to stick to the method of summing the points and using that as the skill measure for the moment. "
   ]
  },
  {
   "cell_type": "code",
   "execution_count": 18,
   "metadata": {},
   "outputs": [
    {
     "name": "stdout",
     "output_type": "stream",
     "text": [
      "+-----+-------------+\n",
      "|   id|average_score|\n",
      "+-----+-------------+\n",
      "| 9766|          5.0|\n",
      "|23521|          5.0|\n",
      "| 5179|          5.0|\n",
      "| 4730|          5.0|\n",
      "|  154|          5.0|\n",
      "|16267|          5.0|\n",
      "| 4719|          5.0|\n",
      "|18637|          5.0|\n",
      "|  132|          5.0|\n",
      "| 6385|          5.0|\n",
      "+-----+-------------+\n",
      "\n"
     ]
    }
   ],
   "source": [
    "top_ten_avg = edges_df_2.select(\"winner\",\"points\").groupBy(\"winner\").avg(\"points\").sort(\"avg(points)\",ascending=False).withColumnRenamed(\"winner\",\"id\").withColumnRenamed(\"avg(points)\",\"average_score\").limit(10)\n",
    "\n",
    "top_ten_avg.show()"
   ]
  },
  {
   "cell_type": "markdown",
   "metadata": {},
   "source": [
    "### Adding Tags to GraphFrame"
   ]
  },
  {
   "cell_type": "markdown",
   "metadata": {},
   "source": [
    "The final step of our analysis is to add tags to the graphframe. Each question on StackExchange can be assigned a tag which gives users more information about what topic the question is related to.\n",
    "\n",
    "We follow a similar procedure to what we did previously when constructing the quadpartiteGraph. "
   ]
  },
  {
   "cell_type": "code",
   "execution_count": 19,
   "metadata": {
    "collapsed": true
   },
   "outputs": [],
   "source": [
    "tagsVerticesWithType = tagsVertices = posts.select(\"_Tags\").distinct().rdd.map(lambda r: Row(id=\"TAG\"+str(r._Tags), type=\"tag\")).toDF()\n",
    "tags_regex = re.compile(r\"<\\w*>\")\n",
    "tagsEdges = posts.select(\"_Tags\",\"_Id\").dropna().rdd.flatMap(lambda r: [Row(src=\"Q\"+str(r._Id),dst=\"TAG\"+str(tag)) for tag in tags_regex.findall(r._Tags)]).toDF()\n",
    "\n",
    "pentpartiteVertices = quadpartiteVertices.unionAll(tagsVerticesWithType)\n",
    "pentpartiteEdges = quadpartiteEdges.unionAll(tagsEdges)\n",
    "\n",
    "pentpartiteGraph = GraphFrame(pentpartiteVertices,pentpartiteEdges)"
   ]
  },
  {
   "cell_type": "markdown",
   "metadata": {},
   "source": [
    "The edges of the pentpartiteGraph can be seen below. There is now an additional vertex (tag) and an additional set of edges which go from the question to tag. "
   ]
  },
  {
   "cell_type": "code",
   "execution_count": 20,
   "metadata": {},
   "outputs": [
    {
     "name": "stdout",
     "output_type": "stream",
     "text": [
      "+-------------+---------------+-----------------+----------+--------------+\n",
      "|         user|         answer|         question|     score|           tag|\n",
      "+-------------+---------------+-----------------+----------+--------------+\n",
      "|  [U381,user]|[A14022,answer]|[Q14021,question]|[S8,score]|[TAG<csv>,tag]|\n",
      "| [U8517,user]|[A14024,answer]|[Q14021,question]|[S0,score]|[TAG<csv>,tag]|\n",
      "|[U24225,user]|[A14023,answer]|[Q14021,question]|[S1,score]|[TAG<csv>,tag]|\n",
      "|[U11097,user]| [A8175,answer]| [Q8173,question]|[S1,score]|[TAG<csv>,tag]|\n",
      "|  [U201,user]| [A6729,answer]| [Q6727,question]|[S0,score]|[TAG<csv>,tag]|\n",
      "+-------------+---------------+-----------------+----------+--------------+\n",
      "only showing top 5 rows\n",
      "\n"
     ]
    }
   ],
   "source": [
    "edges = pentpartiteGraph.find(\"(user) -[]-> (answer); (answer) -[]-> (question); (answer) -[]-> (score); (question) -[]-> (tag)\").where(\"question.id like'%Q%'\").where(\"score.id like '%S%'\").where(\"tag.id like '%<%'\" )\n",
    "edges.show(5)"
   ]
  },
  {
   "cell_type": "markdown",
   "metadata": {},
   "source": [
    "The next step is to remove the letter prefixes and then we create an RDD with question id as the key. The values are put in the following order: answer id, score, tag and user id."
   ]
  },
  {
   "cell_type": "code",
   "execution_count": 21,
   "metadata": {},
   "outputs": [
    {
     "data": {
      "text/plain": [
       "[('14021', ['14022', '8', '<csv>', '381']),\n",
       " ('14021', ['14024', '0', '<csv>', '8517']),\n",
       " ('14021', ['14023', '1', '<csv>', '24225']),\n",
       " ('8173', ['8175', '1', '<csv>', '11097']),\n",
       " ('6727', ['6729', '0', '<csv>', '201'])]"
      ]
     },
     "execution_count": 21,
     "metadata": {},
     "output_type": "execute_result"
    }
   ],
   "source": [
    "edges_df_3 = edges.rdd.map(lambda r:Row(user=str(r.user.id[1:]),answer=str(r.answer.id[1:]),question=str(r.question.id[1:]),score=str(r.score.id[1:]),tag=str(r.tag.id[3:]))).toDF()\n",
    "edges_rdd_2 = edges_df_3.rdd.map(lambda x:((x[1]),(x[0],x[2],x[3],x[4]))).mapValues(list)\n",
    "edges_rdd_2.take(5)"
   ]
  },
  {
   "cell_type": "markdown",
   "metadata": {},
   "source": [
    "We then convert the RDD to an SQL table and get each pair of answers for each question, along with the relevant question tag. \n",
    "\n",
    "The previous steps to calculate each user's score and obtain the right format for the dataframe are repeated here."
   ]
  },
  {
   "cell_type": "code",
   "execution_count": 23,
   "metadata": {},
   "outputs": [
    {
     "name": "stdout",
     "output_type": "stream",
     "text": [
      "+--------------------+--------------------+--------+---------+------+------+\n",
      "|            answer_1|            answer_2|question|      tag|winner|points|\n",
      "+--------------------+--------------------+--------+---------+------+------+\n",
      "|[1176, 4, <bigdat...|[1184, 0, <bigdat...|    1159|<bigdata>|   924|     3|\n",
      "|[1176, 4, <bigdat...|[13680, 0, <bigda...|    1159|<bigdata>|   924|     3|\n",
      "|[1184, 0, <bigdat...|[13680, 0, <bigda...|    1159|<bigdata>|  draw|     0|\n",
      "|[1169, 20, <bigda...|[1176, 4, <bigdat...|    1159|<bigdata>|   924|     5|\n",
      "|[1169, 20, <bigda...|[1184, 0, <bigdat...|    1159|<bigdata>|  1279|     5|\n",
      "+--------------------+--------------------+--------+---------+------+------+\n",
      "only showing top 5 rows\n",
      "\n"
     ]
    }
   ],
   "source": [
    "edges_df_4 = sqlContext.createDataFrame(edges_rdd_2)\n",
    "sqlContext.registerDataFrameAsTable(edges_df_4, \"z2\")\n",
    "\n",
    "edges_df_4 = spark.sql(\"SELECT a._2 AS answer_1 , b._2 AS answer_2, a._1 as question, a._2[2] as tag FROM z2 a JOIN z2 b ON a._1 = b._1 and a._2[0] < b._2[0]\")\n",
    "\n",
    "winner=(F.when(F.col(\"answer_1\")[1]>F.col(\"answer_2\")[1], F.col(\"answer_1\")[3]).when(F.col(\"answer_1\")[1]<F.col(\"answer_2\")[1],F.col(\"answer_2\")[3]).otherwise(\"draw\"))\n",
    "points=(F.when(abs(F.col(\"answer_1\")[1]-F.col(\"answer_2\")[1])>=5, 5).when(abs(F.col(\"answer_1\")[1] - F.col(\"answer_2\")[1]) >= 3,3).when(abs(F.col(\"answer_1\")[1] - F.col(\"answer_2\")[1]) >= 1,1).otherwise(0))\n",
    "\n",
    "edges_df_4 = edges_df_4.withColumn(\"winner\",winner)\n",
    "edges_df_4 = edges_df_4.withColumn(\"points\", points)\n",
    "edges_df_4.show(5)"
   ]
  },
  {
   "cell_type": "markdown",
   "metadata": {},
   "source": [
    "As we are applying Big Data techniques, let's observe which user obtained the highest score within this category. The top 10 users within the \"Big Data\" tag are displayed below. We can see that user 2452 clearly has the highest score so he/she can been seen to be the Stack Exchange expert within this field."
   ]
  },
  {
   "cell_type": "code",
   "execution_count": 24,
   "metadata": {},
   "outputs": [
    {
     "name": "stdout",
     "output_type": "stream",
     "text": [
      "Top 10 by Skill (Big Data Tag):\n",
      "+----+-----+\n",
      "|  id|total|\n",
      "+----+-----+\n",
      "|2452|  106|\n",
      "| 843|   66|\n",
      "|8843|   66|\n",
      "|2433|   64|\n",
      "|  59|   59|\n",
      "| 227|   58|\n",
      "|3430|   56|\n",
      "|  26|   50|\n",
      "| 462|   50|\n",
      "| 381|   49|\n",
      "+----+-----+\n",
      "\n"
     ]
    }
   ],
   "source": [
    "top_ten = edges_df_4.select(\"winner\",\"points\",\"tag\").where(\"tag = '<bigdata>'\").groupBy(\"winner\").sum(\"points\").sort(\"sum(points)\",ascending=False).withColumnRenamed(\"winner\",\"id\").withColumnRenamed(\"sum(points)\",\"total\").limit(10)\n",
    "\n",
    "print(\"Top 10 by Skill (Big Data Tag):\")\n",
    "\n",
    "top_ten.show()\n"
   ]
  },
  {
   "cell_type": "markdown",
   "metadata": {},
   "source": [
    "## Conclusion\n",
    "\n",
    "To conclude, we created a method to try and evaluate a user's skill level based on the answers they have contributed to Stack Exchange in a way that the regular \"reputation\" system doesn't. The \"reputaton\" based system takes into account a vast array of factors and doesn't just focus on a user's answers. However, the method we have created here focuses solely on the answers. As we have seen, user 2452 seems to be the most \"skilled\" user overall and he/she is also the most \"skilled\" when it comes to answering questions withing the \"Big Data\" category. Furthermore, there seems to be some correlation between being the \"skill\" rating we have computed and the \"reputation\" rating Stack Exchange already uses - 4 users who are in the top 10 when rated by \"skill\" are also in the top 10 when rated by \"reputation\".\n",
    "\n",
    "## Next Steps\n",
    "\n",
    "* Creating a likelihood function for the paired comparisons muchlike the Bradley-Terry model does.\n",
    "\n",
    "* It may be worth trying to implement a way of penalising users for poor quality answers. \n",
    "\n",
    "* Try to create a model that takes into account the content of a user's answer. Could peform some text analysis. \n"
   ]
  },
  {
   "cell_type": "markdown",
   "metadata": {},
   "source": [
    "## References\n",
    "\n",
    "DataCamp - Karlijn Willems. 2017. PySpark Cheat Sheet: Spark in Python. [ONLINE] Available at: https://www.datacamp.com/community/blog/pyspark-cheat-sheet-python.\n",
    "\n",
    "GraphFrames GitHub. 2018. GraphFrames User Guide. [ONLINE] Available at: https://graphframes.github.io/user-guide.html.\n",
    "\n",
    "StackExchange. 2013. StackExchange Data Dump. [ONLINE] Available at: https://archive.org/details/stackexchange. \n",
    "\n",
    "StackExchange. 2018. Database schema documentation for the public data dump and SEDE. [ONLINE] Available at: https://meta.stackexchange.com/questions/2677/database-schema-documentation-for-the-public-data-dump-and-sede.\n",
    "\n",
    "StackExchange. 2018. How does \"Reputation\" work?. [ONLINE] Available at: https://meta.stackexchange.com/questions/7237/how-does-reputation-work.\n",
    "\n",
    "StackRating. 2018. Reputation vs Rating. [ONLINE] Available at: https://www.stackrating.com/about. \n",
    "\n",
    "Wikipedia. 2017. Bradley-Terry model. [ONLINE] Available at: https://en.wikipedia.org/wiki/Bradley%E2%80%93Terry_model\n",
    "\n"
   ]
  }
 ],
 "metadata": {
  "kernelspec": {
   "display_name": "Python 3",
   "language": "python",
   "name": "python3"
  },
  "language_info": {
   "codemirror_mode": {
    "name": "ipython",
    "version": 3
   },
   "file_extension": ".py",
   "mimetype": "text/x-python",
   "name": "python",
   "nbconvert_exporter": "python",
   "pygments_lexer": "ipython3",
   "version": "3.6.2"
  }
 },
 "nbformat": 4,
 "nbformat_minor": 2
}
